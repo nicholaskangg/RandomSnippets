{
 "cells": [
  {
   "cell_type": "markdown",
   "id": "39cdfcee",
   "metadata": {},
   "source": [
    "## Hidden Markov Models\n",
    "\n",
    "A Hidden Markov Model (HMM) is a stochastic model of discrete events and a variation of the Markov chain which is useful in computing the probability for a sequence. HMM states are hidden or can only be inferred from the observed parameters.\n",
    "\n",
    "<!-- Formally, let $X_n$ and $Y_n$ be discrete-time stochastic processes and $n ≥ 1$.\n",
    "$(X_n, Y_n)$ is a hidden markov model if $X_n$ is a Markov -->\n",
    "The notation for an HMM is:\n",
    "\n",
    "$\\lambda = (A,B,\\pi)$\n",
    "* $A$ (transition probability matrix) = $a_{11} ... a_{ij} ... a_{NN}$\n",
    "* $B$ (observation probability matrix) = $b_i(o_t)$\n",
    "* $\\pi$ (initial state distribution) = $\\pi_1, ... \\pi_2, \\pi_N $\n",
    "* $Q$ (a set of N states) = $q_1q_2...q_N$\n",
    "* $O$ (a sequence of T observations) = $o_1o_2...o_T$\n",
    "\n",
    "\n",
    "\n",
    "#### Computing Likelihood of an observation sequence:\n",
    "\n",
    "For a particular hidden state sequence $Q=q_0,q_1,...q_T$ and an observation sequence $O=o_1,o_2,...,o_T$\n",
    "<!-- Given an HMM $\\lambda = (A,B)$ and an observation sequence $O$, determine the likelihood $P(O|\\lambda)$ -->\n",
    "<img src=\"https://latex.codecogs.com/svg.latex?P%28O%7CQ%29%3D%5Cprod_%7Bi%3D1%7D%5E%7BT%7DP%28o_i%7Cq_i%29\" />"
   ]
  },
  {
   "cell_type": "markdown",
   "id": "e29f46dd",
   "metadata": {},
   "source": [
    "### Using HMM to model volatility regimes in SPY\n",
    "<!-- Since HMM are essentially a mixture of Gaussian distributions, sampling the means and variances from the low and high volatility Gaussion distributions will allow us to have a fat tailed distribution which affect stock returns. -->\n",
    "\n",
    "Observations in the stock market:\n",
    "* Long periods of low volatility\n",
    "* Short periods of high volatility\n",
    "\n",
    "When applying an HMM in the real world, there are three main subproblems that are associated with fitting the model.\n",
    "<ol>\n",
    "    <li>Estimate the probability of occurrence for the set of observations. This can be done by applying the forward algorithim. The algorithim does this by summing the probabilities of all of the various hidden state paths than can potentially generate the observation sequence.</li><br/>\n",
    "    <li>Determining the most optimal sequence of hidden states for the HMM given the set of observations. This can be solved by the Viterbi algorithim. The Vertibi algorithim recursively computes the most probable path through a sequence of states by storing the probability and state sequence of the most probable path at each point of time.\n",
    "    </li><br/>\n",
    "    <li>Finding the optimal parameters A, µ, σ, and π of the HMM. This can be done by using Baum-Welch algorithim, gradient ascent or expectation-maximization.\n",
    "    </li>\n",
    "</ol>\n",
    "\n",
    "--<cite>(J. Risk Financial Manag. 2020, 13, 311)</cite>\n",
    "\n",
    "\n",
    "<!-- let $z(t)$ = regime at time $t$ and $x(t)$ = returns of stock at time $t$\n",
    "The generic states are $z(t) ∈ \\{1,2,3...,N\\}$ \\\n",
    "Probability of going to the next state from the current state: $p[z(t+1)=j | z(t)=i] = A_{ij}$\n",
    " -->\n"
   ]
  },
  {
   "cell_type": "code",
   "execution_count": 1,
   "id": "9311748c",
   "metadata": {},
   "outputs": [],
   "source": [
    "from hmmlearn import hmm\n",
    "import pandas as pd\n",
    "import numpy as np\n",
    "import matplotlib.pyplot as plt"
   ]
  },
  {
   "cell_type": "code",
   "execution_count": 22,
   "id": "52c10947",
   "metadata": {},
   "outputs": [
    {
     "name": "stdout",
     "output_type": "stream",
     "text": [
      "(2263, 6)\n"
     ]
    },
    {
     "data": {
      "text/plain": [
       "<AxesSubplot:>"
      ]
     },
     "execution_count": 22,
     "metadata": {},
     "output_type": "execute_result"
    },
    {
     "data": {
      "image/png": "[encoded data removed]",
      "text/plain": [
       "<Figure size 432x288 with 1 Axes>"
      ]
     },
     "metadata": {
      "needs_background": "light"
     },
     "output_type": "display_data"
    }
   ],
   "source": [
    "df = pd.read_csv('SPY.csv', index_col='Date', parse_dates=True)\n",
    "print(df.shape)\n",
    "\n",
    "returns = np.log(df['Close']).diff()\n",
    "returns.dropna(inplace=True)\n",
    "returns.hist(bins=50)"
   ]
  },
  {
   "cell_type": "code",
   "execution_count": 27,
   "id": "153ddb30-e8d1-4a79-ada1-e8b16b796bef",
   "metadata": {},
   "outputs": [],
   "source": [
    "# Initialize the model\n",
    "model = hmm.GaussianHMM(n_components=2, covariance_type=\"diag\")\n",
    "\n",
    "# Fitting the model to find the optimal paramaters of A, µ, σ\n",
    "X = returns.to_numpy().reshape(-1,1)\n",
    "model.fit(X)\n",
    "\n",
    "# Verterbi algorthim\n",
    "Z = model.predict(X)"
   ]
  }
 ],
 "metadata": {
  "kernelspec": {
   "display_name": "Python 3 (ipykernel)",
   "language": "python",
   "name": "python3"
  },
  "language_info": {
   "codemirror_mode": {
    "name": "ipython",
    "version": 3
   },
   "file_extension": ".py",
   "mimetype": "text/x-python",
   "name": "python",
   "nbconvert_exporter": "python",
   "pygments_lexer": "ipython3",
   "version": "3.9.1"
  }
 },
 "nbformat": 4,
 "nbformat_minor": 5
}
